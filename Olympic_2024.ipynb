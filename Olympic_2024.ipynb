{
  "metadata": {
    "kernelspec": {
      "language": "python",
      "display_name": "Python 3",
      "name": "python3"
    },
    "language_info": {
      "name": "python",
      "version": "3.10.14",
      "mimetype": "text/x-python",
      "codemirror_mode": {
        "name": "ipython",
        "version": 3
      },
      "pygments_lexer": "ipython3",
      "nbconvert_exporter": "python",
      "file_extension": ".py"
    },
    "kaggle": {
      "accelerator": "none",
      "dataSources": [
        {
          "sourceId": 9262003,
          "sourceType": "datasetVersion",
          "datasetId": 5274150
        }
      ],
      "dockerImageVersionId": 30761,
      "isInternetEnabled": true,
      "language": "python",
      "sourceType": "notebook",
      "isGpuEnabled": false
    },
    "colab": {
      "provenance": []
    }
  },
  "nbformat_minor": 0,
  "nbformat": 4,
  "cells": [
    {
      "cell_type": "code",
      "source": [
        "from google.colab import drive\n",
        "drive.mount('/content/drive')\n",
        "\n"
      ],
      "metadata": {
        "id": "IXybeN-noUTr"
      },
      "execution_count": null,
      "outputs": []
    },
    {
      "cell_type": "code",
      "source": [
        "# This Python 3 environment comes with many helpful analytics libraries installed\n",
        "# It is defined by the kaggle/python Docker image: https://github.com/kaggle/docker-python\n",
        "# For example, here's several helpful packages to load\n",
        "\n",
        "import numpy as np # linear algebra\n",
        "import pandas as pd # data processing, CSV file I/O (e.g. pd.read_csv)\n",
        "import matplotlib.pyplot as plt\n",
        "import seaborn as sns\n",
        "import warnings\n",
        "warnings.filterwarnings('ignore')\n",
        "import plotly\n",
        "from plotly.offline import init_notebook_mode\n",
        "init_notebook_mode(connected=True)\n",
        "\n",
        "\n",
        "import os\n",
        "for dirname, _, filenames in os.walk('/content/drive/MyDrive/Olympic'):\n",
        "    for filename in filenames:\n",
        "        print(os.path.join(dirname, filename))\n",
        "\n"
      ],
      "metadata": {
        "_uuid": "8f2839f25d086af736a60e9eeb907d3b93b6e0e5",
        "_cell_guid": "b1076dfc-b9ad-4769-8c92-a6c4dae69d19",
        "execution": {
          "iopub.status.busy": "2024-10-01T15:08:44.764628Z",
          "iopub.execute_input": "2024-10-01T15:08:44.765064Z",
          "iopub.status.idle": "2024-10-01T15:08:47.473297Z",
          "shell.execute_reply.started": "2024-10-01T15:08:44.765017Z",
          "shell.execute_reply": "2024-10-01T15:08:47.472004Z"
        },
        "trusted": true,
        "id": "CxwfAW39n1he"
      },
      "execution_count": null,
      "outputs": []
    },
    {
      "cell_type": "markdown",
      "source": [
        "# Data Visualization of Olympic 2024"
      ],
      "metadata": {
        "id": "l_s6V7Cxn1hf"
      }
    },
    {
      "cell_type": "markdown",
      "source": [
        "![](https://imgs.search.brave.com/iPYSXbeMRP6nKVwSEFuQP-DbRUR4_Vh1B8FGeIxQv_k/rs:fit:500:0:0:0/g:ce/aHR0cHM6Ly90NC5m/dGNkbi5uZXQvanBn/LzA4LzEyLzk3LzQx/LzM2MF9GXzgxMjk3/NDE3OF8zWEVMTlRE/V2lybUlnVFVZNncw/OTh2UzJoSjFBdkdK/Ty5qcGc)"
      ],
      "metadata": {
        "id": "XQwEeQdFn1hg"
      }
    },
    {
      "cell_type": "code",
      "source": [
        "# Define the folder_path variable with the actual path to the directory containing your data\n",
        "folder_path = '/content/drive/MyDrive/Olympic'  # Update with the correct path if needed\n",
        "\n",
        "athletes_data= os.path.join(folder_path, 'athletes.csv')\n",
        "coaches_data = os.path.join(folder_path, 'coaches.csv')\n",
        "events_data = os.path.join(folder_path, 'events.csv')\n",
        "\n",
        "medals_data  = os.path.join(folder_path, 'medals.csv')\n",
        "country_medal_data = os.path.join(folder_path, 'medals_total.csv')\n",
        "medalist_data  = os.path.join(folder_path, 'medals_total.csv')"
      ],
      "metadata": {
        "execution": {
          "iopub.status.busy": "2024-10-01T15:08:47.475579Z",
          "iopub.execute_input": "2024-10-01T15:08:47.475981Z",
          "iopub.status.idle": "2024-10-01T15:08:47.876674Z",
          "shell.execute_reply.started": "2024-10-01T15:08:47.475937Z",
          "shell.execute_reply": "2024-10-01T15:08:47.875427Z"
        },
        "trusted": true,
        "id": "XSgo4XU-n1hg"
      },
      "execution_count": null,
      "outputs": []
    },
    {
      "cell_type": "code",
      "source": [
        "pd.set_option('display.max_columns', None)\n",
        "athletes_data.head()"
      ],
      "metadata": {
        "execution": {
          "iopub.status.busy": "2024-10-01T15:08:47.878209Z",
          "iopub.execute_input": "2024-10-01T15:08:47.878734Z",
          "iopub.status.idle": "2024-10-01T15:08:47.931834Z",
          "shell.execute_reply.started": "2024-10-01T15:08:47.878675Z",
          "shell.execute_reply": "2024-10-01T15:08:47.930501Z"
        },
        "trusted": true,
        "id": "D9JbI5HCn1hh"
      },
      "execution_count": null,
      "outputs": []
    },
    {
      "cell_type": "markdown",
      "source": [
        "# Athlete Informations"
      ],
      "metadata": {
        "id": "F9RufHP2n1hh"
      }
    },
    {
      "cell_type": "markdown",
      "source": [
        "## Number of male and female athelete"
      ],
      "metadata": {
        "id": "IgpuAwNjn1hh"
      }
    },
    {
      "cell_type": "code",
      "source": [
        "import os\n",
        "import pandas as pd\n",
        "import seaborn as sns\n",
        "import matplotlib.pyplot as plt\n",
        "\n",
        "# Define the folder_path variable with the actual path to the directory containing your data\n",
        "folder_path = '/content/drive/MyDrive/Olympic'  # Update with the correct path if needed\n",
        "\n",
        "athletes_data_path = os.path.join(folder_path, 'athletes.csv')\n",
        "coaches_data = os.path.join(folder_path, 'coaches.csv')\n",
        "events_data = os.path.join(folder_path, 'events.csv')\n",
        "\n",
        "medals_data  = os.path.join(folder_path, 'medals.csv')\n",
        "country_medal_data = os.path.join(folder_path, 'medals_total.csv')\n",
        "medalist_data  = os.path.join(folder_path, 'medals_total.csv')\n",
        "\n",
        "# Load the athletes data into a Pandas DataFrame\n",
        "athletes_data = pd.read_csv(athletes_data_path) # This line is crucial to load the data\n",
        "\n",
        "print(athletes_data['gender'].value_counts())\n",
        "plt.figure(figsize=(8,6))\n",
        "ax=sns.countplot(athletes_data,x=athletes_data['gender'],palette=['lightblue', 'coral'])\n",
        "for p in ax.patches:\n",
        "    ax.annotate(f'{int(p.get_height())}',\n",
        "                (p.get_x() + p.get_width() / 2., p.get_height()),\n",
        "                ha='center', va='bottom',\n",
        "                fontsize=10,color='mediumvioletred'\n",
        "               )\n",
        "plt.title('Number of female and male athletes')\n",
        "plt.show()"
      ],
      "metadata": {
        "execution": {
          "iopub.status.busy": "2024-10-01T15:20:30.211623Z",
          "iopub.execute_input": "2024-10-01T15:20:30.212672Z",
          "iopub.status.idle": "2024-10-01T15:20:30.43513Z",
          "shell.execute_reply.started": "2024-10-01T15:20:30.21262Z",
          "shell.execute_reply": "2024-10-01T15:20:30.433989Z"
        },
        "trusted": true,
        "id": "lVPoAqdKn1hh"
      },
      "execution_count": null,
      "outputs": []
    },
    {
      "cell_type": "code",
      "source": [
        "plt.pie(athletes_data['gender'].value_counts(),labels=['Male','Female'],autopct='%1.1f%%', colors=['#CDC1FF', '#A594F9'],textprops={'fontsize': 12})\n",
        "plt.title(\"Men/Female Ratio in olympics\")\n",
        "plt.show()"
      ],
      "metadata": {
        "execution": {
          "iopub.status.busy": "2024-10-01T15:32:56.305274Z",
          "iopub.execute_input": "2024-10-01T15:32:56.305724Z",
          "iopub.status.idle": "2024-10-01T15:32:56.447301Z",
          "shell.execute_reply.started": "2024-10-01T15:32:56.30568Z",
          "shell.execute_reply": "2024-10-01T15:32:56.445731Z"
        },
        "trusted": true,
        "id": "TVZMsbFfn1hi"
      },
      "execution_count": null,
      "outputs": []
    },
    {
      "cell_type": "markdown",
      "source": [
        "## Top 10 countries with highest no of athletes"
      ],
      "metadata": {
        "id": "8EzegfMRn1hi"
      }
    },
    {
      "cell_type": "code",
      "source": [
        "top =athletes_data['country'].value_counts().head(10).index\n",
        "top_10 = athletes_data[athletes_data['country'].isin(top)]"
      ],
      "metadata": {
        "execution": {
          "iopub.status.busy": "2024-10-01T15:08:48.404131Z",
          "iopub.execute_input": "2024-10-01T15:08:48.405648Z",
          "iopub.status.idle": "2024-10-01T15:08:48.429395Z",
          "shell.execute_reply.started": "2024-10-01T15:08:48.405561Z",
          "shell.execute_reply": "2024-10-01T15:08:48.427508Z"
        },
        "trusted": true,
        "id": "Y828Tt4Ln1hi"
      },
      "execution_count": null,
      "outputs": []
    },
    {
      "cell_type": "code",
      "source": [
        "plt.figure(figsize=(25,20))\n",
        "ax = sns.countplot(data = top_10,x='country',hue='gender',palette=['lightblue', 'coral'])\n",
        "for p in ax.patches:\n",
        "    ax.annotate(f'{int(p.get_height())}',\n",
        "                (p.get_x() + p.get_width() / 2., p.get_height()),\n",
        "                ha='center', va='bottom',\n",
        "                fontsize=15,color='red')\n",
        "plt.xticks(fontsize=17)\n",
        "plt.yticks(fontsize=17)\n",
        "plt.xlabel('Country',fontsize=25)\n",
        "plt.ylabel('No of Atheletes',fontsize=25)\n",
        "plt.legend(fontsize=15, title_fontsize='14')\n",
        "plt.show()"
      ],
      "metadata": {
        "execution": {
          "iopub.status.busy": "2024-10-01T15:08:48.431885Z",
          "iopub.execute_input": "2024-10-01T15:08:48.433008Z",
          "iopub.status.idle": "2024-10-01T15:08:49.256907Z",
          "shell.execute_reply.started": "2024-10-01T15:08:48.432923Z",
          "shell.execute_reply": "2024-10-01T15:08:49.255618Z"
        },
        "trusted": true,
        "id": "Ft5BpIS_n1hi"
      },
      "execution_count": null,
      "outputs": []
    },
    {
      "cell_type": "code",
      "source": [
        "top_10['country'].value_counts()"
      ],
      "metadata": {
        "execution": {
          "iopub.status.busy": "2024-10-01T15:08:49.258576Z",
          "iopub.execute_input": "2024-10-01T15:08:49.258985Z",
          "iopub.status.idle": "2024-10-01T15:08:49.26999Z",
          "shell.execute_reply.started": "2024-10-01T15:08:49.258942Z",
          "shell.execute_reply": "2024-10-01T15:08:49.268734Z"
        },
        "trusted": true,
        "id": "4-YG9Zvin1hi"
      },
      "execution_count": null,
      "outputs": []
    },
    {
      "cell_type": "markdown",
      "source": [
        "## Top 5 countries with highest no of male participant"
      ],
      "metadata": {
        "id": "jtfV6HBDn1hi"
      }
    },
    {
      "cell_type": "code",
      "source": [
        "male = athletes_data[athletes_data['gender']=='Male']\n",
        "top_male = male['country'].value_counts().head(5).index\n",
        "top_male_countries=male[athletes_data['country'].isin(top_male)]"
      ],
      "metadata": {
        "execution": {
          "iopub.status.busy": "2024-10-01T15:08:49.271656Z",
          "iopub.execute_input": "2024-10-01T15:08:49.272691Z",
          "iopub.status.idle": "2024-10-01T15:08:49.295548Z",
          "shell.execute_reply.started": "2024-10-01T15:08:49.272629Z",
          "shell.execute_reply": "2024-10-01T15:08:49.294371Z"
        },
        "trusted": true,
        "id": "10gg0oJQn1hj"
      },
      "execution_count": null,
      "outputs": []
    },
    {
      "cell_type": "code",
      "source": [
        "ax=sns.countplot(top_male_countries,x='country',palette=['lightblue', 'coral', 'limegreen', 'gold', 'mediumvioletred'])\n",
        "for p in ax.patches:\n",
        "    ax.annotate(f'{int(p.get_height())}',\n",
        "                (p.get_x() + p.get_width() / 2., p.get_height()),\n",
        "                ha='center', va='bottom',\n",
        "                fontsize=12)"
      ],
      "metadata": {
        "execution": {
          "iopub.status.busy": "2024-10-01T15:08:49.302832Z",
          "iopub.execute_input": "2024-10-01T15:08:49.303311Z",
          "iopub.status.idle": "2024-10-01T15:08:49.622862Z",
          "shell.execute_reply.started": "2024-10-01T15:08:49.303234Z",
          "shell.execute_reply": "2024-10-01T15:08:49.621475Z"
        },
        "trusted": true,
        "id": "L1uK88XVn1hj"
      },
      "execution_count": null,
      "outputs": []
    },
    {
      "cell_type": "code",
      "source": [
        "# print(top_male_countries['country'].value_counts(),((top_male_countries['country'].value_counts()/len(male))*100))"
      ],
      "metadata": {
        "execution": {
          "iopub.status.busy": "2024-10-01T15:08:49.627913Z",
          "iopub.execute_input": "2024-10-01T15:08:49.628488Z",
          "iopub.status.idle": "2024-10-01T15:08:49.63414Z",
          "shell.execute_reply.started": "2024-10-01T15:08:49.628438Z",
          "shell.execute_reply": "2024-10-01T15:08:49.632792Z"
        },
        "trusted": true,
        "id": "56CNvMZWn1hj"
      },
      "execution_count": null,
      "outputs": []
    },
    {
      "cell_type": "markdown",
      "source": [
        "## Top 5 countries with highest no of female participant"
      ],
      "metadata": {
        "id": "xbHons_jn1hj"
      }
    },
    {
      "cell_type": "code",
      "source": [
        "female = athletes_data[athletes_data['gender']=='Female']\n",
        "top_female = female['country'].value_counts().head(5).index\n",
        "top_female_countries=female[athletes_data['country'].isin(top_female)]"
      ],
      "metadata": {
        "execution": {
          "iopub.status.busy": "2024-10-01T15:08:49.636225Z",
          "iopub.execute_input": "2024-10-01T15:08:49.636787Z",
          "iopub.status.idle": "2024-10-01T15:08:49.663432Z",
          "shell.execute_reply.started": "2024-10-01T15:08:49.636729Z",
          "shell.execute_reply": "2024-10-01T15:08:49.662163Z"
        },
        "trusted": true,
        "id": "VklqFJh8n1hj"
      },
      "execution_count": null,
      "outputs": []
    },
    {
      "cell_type": "code",
      "source": [
        "ax=sns.countplot(top_female_countries,x='country')\n",
        "for p in ax.patches:\n",
        "    ax.annotate(f'{int(p.get_height())}',\n",
        "                (p.get_x() + p.get_width() / 2., p.get_height()),\n",
        "                ha='center', va='bottom',\n",
        "                fontsize=12)\n",
        "plt.show()"
      ],
      "metadata": {
        "execution": {
          "iopub.status.busy": "2024-10-01T15:08:49.664792Z",
          "iopub.execute_input": "2024-10-01T15:08:49.665275Z",
          "iopub.status.idle": "2024-10-01T15:08:49.952575Z",
          "shell.execute_reply.started": "2024-10-01T15:08:49.665194Z",
          "shell.execute_reply": "2024-10-01T15:08:49.951399Z"
        },
        "trusted": true,
        "id": "2XZKxjAUn1hj"
      },
      "execution_count": null,
      "outputs": []
    },
    {
      "cell_type": "code",
      "source": [
        "print(top_female_countries['country'].value_counts(),sum((top_male_countries['country'].value_counts()/len(female))*100))"
      ],
      "metadata": {
        "execution": {
          "iopub.status.busy": "2024-10-01T15:08:49.953925Z",
          "iopub.execute_input": "2024-10-01T15:08:49.954338Z",
          "iopub.status.idle": "2024-10-01T15:08:49.964318Z",
          "shell.execute_reply.started": "2024-10-01T15:08:49.954293Z",
          "shell.execute_reply": "2024-10-01T15:08:49.962946Z"
        },
        "trusted": true,
        "id": "MRZxHo4sn1hj"
      },
      "execution_count": null,
      "outputs": []
    },
    {
      "cell_type": "markdown",
      "source": [
        "## Top 8 games with highest no of participant"
      ],
      "metadata": {
        "id": "7QjiN4dPn1hj"
      }
    },
    {
      "cell_type": "code",
      "source": [
        "top_games = athletes_data['disciplines'].value_counts().head(8).index\n",
        "top_8_games = athletes_data[athletes_data['disciplines'].isin(top_games)]"
      ],
      "metadata": {
        "execution": {
          "iopub.status.busy": "2024-10-01T15:08:49.965972Z",
          "iopub.execute_input": "2024-10-01T15:08:49.966452Z",
          "iopub.status.idle": "2024-10-01T15:08:49.988441Z",
          "shell.execute_reply.started": "2024-10-01T15:08:49.966406Z",
          "shell.execute_reply": "2024-10-01T15:08:49.987024Z"
        },
        "trusted": true,
        "id": "ldgHL_WOn1hj"
      },
      "execution_count": null,
      "outputs": []
    },
    {
      "cell_type": "code",
      "source": [
        "sns.countplot(top_8_games,x='disciplines')\n",
        "plt.xticks(rotation=45, fontsize=12)\n",
        "plt.show()"
      ],
      "metadata": {
        "execution": {
          "iopub.status.busy": "2024-10-01T15:08:49.990735Z",
          "iopub.execute_input": "2024-10-01T15:08:49.991215Z",
          "iopub.status.idle": "2024-10-01T15:08:50.317663Z",
          "shell.execute_reply.started": "2024-10-01T15:08:49.991154Z",
          "shell.execute_reply": "2024-10-01T15:08:50.31635Z"
        },
        "trusted": true,
        "id": "hFSlkXaHn1hj"
      },
      "execution_count": null,
      "outputs": []
    },
    {
      "cell_type": "code",
      "source": [],
      "metadata": {
        "trusted": true,
        "id": "kSsFCE-fn1hj"
      },
      "execution_count": null,
      "outputs": []
    },
    {
      "cell_type": "markdown",
      "source": [
        "## Top 8 games with lowest no of participant"
      ],
      "metadata": {
        "id": "3LCUPb5yn1hj"
      }
    },
    {
      "cell_type": "code",
      "source": [
        "bot_games = athletes_data['disciplines'].value_counts().tail(8).index\n",
        "bot_8_games = athletes_data[athletes_data['disciplines'].isin(bot_games)]"
      ],
      "metadata": {
        "execution": {
          "iopub.status.busy": "2024-10-01T15:08:50.319531Z",
          "iopub.execute_input": "2024-10-01T15:08:50.320019Z",
          "iopub.status.idle": "2024-10-01T15:08:50.331569Z",
          "shell.execute_reply.started": "2024-10-01T15:08:50.319962Z",
          "shell.execute_reply": "2024-10-01T15:08:50.330329Z"
        },
        "trusted": true,
        "id": "P5QlRgrOn1hj"
      },
      "execution_count": null,
      "outputs": []
    },
    {
      "cell_type": "code",
      "source": [
        "sns.countplot(bot_8_games,y='disciplines')\n",
        "plt.show()"
      ],
      "metadata": {
        "execution": {
          "iopub.status.busy": "2024-10-01T15:08:50.332969Z",
          "iopub.execute_input": "2024-10-01T15:08:50.333396Z",
          "iopub.status.idle": "2024-10-01T15:08:50.635142Z",
          "shell.execute_reply.started": "2024-10-01T15:08:50.333347Z",
          "shell.execute_reply": "2024-10-01T15:08:50.633967Z"
        },
        "trusted": true,
        "id": "qVa1bvscn1hj"
      },
      "execution_count": null,
      "outputs": []
    },
    {
      "cell_type": "markdown",
      "source": [
        "## Top 10 countries with lowest no of athletes"
      ],
      "metadata": {
        "id": "N1gE6jL8n1hk"
      }
    },
    {
      "cell_type": "code",
      "source": [
        "bot =athletes_data['country'].value_counts().tail(10).index\n",
        "bot_10 = athletes_data[athletes_data['country'].isin(bot)]"
      ],
      "metadata": {
        "execution": {
          "iopub.status.busy": "2024-10-01T15:08:50.636689Z",
          "iopub.execute_input": "2024-10-01T15:08:50.637072Z",
          "iopub.status.idle": "2024-10-01T15:08:50.652311Z",
          "shell.execute_reply.started": "2024-10-01T15:08:50.63703Z",
          "shell.execute_reply": "2024-10-01T15:08:50.651205Z"
        },
        "trusted": true,
        "id": "qmCXEt8dn1hk"
      },
      "execution_count": null,
      "outputs": []
    },
    {
      "cell_type": "code",
      "source": [
        "sns.countplot(data = bot_10,y='country')\n",
        "plt.show()"
      ],
      "metadata": {
        "execution": {
          "iopub.status.busy": "2024-10-01T15:08:50.653663Z",
          "iopub.execute_input": "2024-10-01T15:08:50.654074Z",
          "iopub.status.idle": "2024-10-01T15:08:50.97282Z",
          "shell.execute_reply.started": "2024-10-01T15:08:50.65402Z",
          "shell.execute_reply": "2024-10-01T15:08:50.971633Z"
        },
        "trusted": true,
        "id": "2kkYyEvWn1hk"
      },
      "execution_count": null,
      "outputs": []
    },
    {
      "cell_type": "markdown",
      "source": [
        "## Athlete age analysis"
      ],
      "metadata": {
        "id": "ttHI8lq8n1hk"
      }
    },
    {
      "cell_type": "code",
      "source": [
        "from datetime import datetime\n",
        "athletes_data['birth_date'] = pd.to_datetime(athletes_data['birth_date'])\n",
        "athletes_data['age'] = athletes_data['birth_date'].apply(lambda birth_date: (datetime.now() - birth_date).days // 365)"
      ],
      "metadata": {
        "execution": {
          "iopub.status.busy": "2024-10-01T15:08:50.974146Z",
          "iopub.execute_input": "2024-10-01T15:08:50.974575Z",
          "iopub.status.idle": "2024-10-01T15:08:51.344689Z",
          "shell.execute_reply.started": "2024-10-01T15:08:50.974518Z",
          "shell.execute_reply": "2024-10-01T15:08:51.343346Z"
        },
        "trusted": true,
        "id": "cg168fOan1hk"
      },
      "execution_count": null,
      "outputs": []
    },
    {
      "cell_type": "code",
      "source": [
        "athletes_data['age'].describe()"
      ],
      "metadata": {
        "execution": {
          "iopub.status.busy": "2024-10-01T15:08:51.346495Z",
          "iopub.execute_input": "2024-10-01T15:08:51.34736Z",
          "iopub.status.idle": "2024-10-01T15:08:51.362869Z",
          "shell.execute_reply.started": "2024-10-01T15:08:51.34728Z",
          "shell.execute_reply": "2024-10-01T15:08:51.361173Z"
        },
        "trusted": true,
        "id": "3MrF8ULFn1hk"
      },
      "execution_count": null,
      "outputs": []
    },
    {
      "cell_type": "code",
      "source": [
        "youngest_athlete = athletes_data.loc[athletes_data['age'].idxmin()]\n",
        "oldest_athlete = athletes_data.loc[athletes_data['age'].idxmax()]\n",
        "print(f\" Youngest athlete of this olympics is: {youngest_athlete['name']} and age of athlete is {youngest_athlete['age']}\")\n",
        "print(f\" oldest athlete of this olympics is: {oldest_athlete['name']} and age of athlete is {oldest_athlete['age']}\")"
      ],
      "metadata": {
        "execution": {
          "iopub.status.busy": "2024-10-01T15:08:51.365628Z",
          "iopub.execute_input": "2024-10-01T15:08:51.366148Z",
          "iopub.status.idle": "2024-10-01T15:08:51.375997Z",
          "shell.execute_reply.started": "2024-10-01T15:08:51.366086Z",
          "shell.execute_reply": "2024-10-01T15:08:51.374462Z"
        },
        "trusted": true,
        "id": "7P94VtTHn1hk"
      },
      "execution_count": null,
      "outputs": []
    },
    {
      "cell_type": "code",
      "source": [
        "bins = [0, 18, 25, 35, 45, 55, 65, 75, 85, 100]\n",
        "labels = ['0-18', '19-25', '26-35', '36-45', '46-55', '56-65', '66-75', '76-85', '86-100']\n",
        "sns.histplot(data=athletes_data, x='age', bins=bins, discrete=True, palette='viridis',kde=True, color='mediumvioletred')\n",
        "plt.show()"
      ],
      "metadata": {
        "execution": {
          "iopub.status.busy": "2024-10-01T15:08:51.377992Z",
          "iopub.execute_input": "2024-10-01T15:08:51.379398Z",
          "iopub.status.idle": "2024-10-01T15:08:51.973379Z",
          "shell.execute_reply.started": "2024-10-01T15:08:51.379333Z",
          "shell.execute_reply": "2024-10-01T15:08:51.97208Z"
        },
        "trusted": true,
        "id": "yjoHcF23n1hk"
      },
      "execution_count": null,
      "outputs": []
    },
    {
      "cell_type": "code",
      "source": [
        "plt.figure(figsize=(10, 6))\n",
        "sns.violinplot(data=athletes_data, x='gender', y='age')\n",
        "plt.title('Distribution of Age by Gender')\n",
        "plt.xlabel('Gender')\n",
        "plt.ylabel('Age')\n",
        "plt.show()"
      ],
      "metadata": {
        "execution": {
          "iopub.status.busy": "2024-10-01T15:08:51.974912Z",
          "iopub.execute_input": "2024-10-01T15:08:51.975347Z",
          "iopub.status.idle": "2024-10-01T15:08:52.258364Z",
          "shell.execute_reply.started": "2024-10-01T15:08:51.975288Z",
          "shell.execute_reply": "2024-10-01T15:08:52.256926Z"
        },
        "trusted": true,
        "id": "_lx09nj4n1hk"
      },
      "execution_count": null,
      "outputs": []
    },
    {
      "cell_type": "code",
      "source": [
        "sns.boxplot(athletes_data,y='age')\n",
        "plt.show()"
      ],
      "metadata": {
        "execution": {
          "iopub.status.busy": "2024-10-01T15:08:52.260285Z",
          "iopub.execute_input": "2024-10-01T15:08:52.260773Z",
          "iopub.status.idle": "2024-10-01T15:08:52.481335Z",
          "shell.execute_reply.started": "2024-10-01T15:08:52.260721Z",
          "shell.execute_reply": "2024-10-01T15:08:52.479573Z"
        },
        "trusted": true,
        "id": "xwEPXtnbn1hk"
      },
      "execution_count": null,
      "outputs": []
    },
    {
      "cell_type": "code",
      "source": [
        "#Avg age of female and male athletes\n",
        "avg_male_age = int(athletes_data[athletes_data['gender']=='Male']['age'].mean())\n",
        "avg_female_age = int(athletes_data[athletes_data['gender']=='Female']['age'].mean())\n",
        "print(f\"Avg male age is: {avg_male_age} and Avg female age is: {avg_female_age}\")"
      ],
      "metadata": {
        "execution": {
          "iopub.status.busy": "2024-10-01T15:08:52.483338Z",
          "iopub.execute_input": "2024-10-01T15:08:52.483894Z",
          "iopub.status.idle": "2024-10-01T15:08:52.509932Z",
          "shell.execute_reply.started": "2024-10-01T15:08:52.483835Z",
          "shell.execute_reply": "2024-10-01T15:08:52.508555Z"
        },
        "trusted": true,
        "id": "z-RTz_STn1ho"
      },
      "execution_count": null,
      "outputs": []
    },
    {
      "cell_type": "code",
      "source": [
        "#How many kids ,adults and old participants with avg age in olympics\n",
        "kids = athletes_data[athletes_data['age']<18]\n",
        "# kids['age'].mean()\n",
        "Adult = athletes_data[(athletes_data['age']>=18 )& (athletes_data['age']<=60)]\n",
        "# Adult['age'].mean()\n",
        "old = athletes_data[athletes_data['age']>60]\n",
        "# old['age'].mean()\n",
        "print(f\"The no of players with age less than 18 is: {len(kids)} with the avg age of {kids['age'].mean()}\")\n",
        "print(f\"The no of players with age less than 60 and greater than 18 is: {len(Adult)} with the avg age of {Adult['age'].mean()}\")\n",
        "print(f\"The no of players with age greater than 60 is: {len(old)} with avg the age of {old['age'].mean()}\")\n",
        "plt.pie([len(kids),len(Adult),len(old)],labels=['Kids','Adults','Olds'],autopct='%1.1f%%',explode = (0.5, 0.8, 0.5),startangle=140,shadow=True)\n",
        "plt.show()"
      ],
      "metadata": {
        "execution": {
          "iopub.status.busy": "2024-10-01T15:38:57.994785Z",
          "iopub.execute_input": "2024-10-01T15:38:57.995781Z",
          "iopub.status.idle": "2024-10-01T15:38:58.165892Z",
          "shell.execute_reply.started": "2024-10-01T15:38:57.995736Z",
          "shell.execute_reply": "2024-10-01T15:38:58.164791Z"
        },
        "trusted": true,
        "id": "d5hZYInvn1ho"
      },
      "execution_count": null,
      "outputs": []
    },
    {
      "cell_type": "markdown",
      "source": [
        "# Medals Analysis"
      ],
      "metadata": {
        "id": "w2SWNZKMn1ho"
      }
    },
    {
      "cell_type": "code",
      "source": [
        "import pandas as pd\n",
        "\n",
        "# Assuming country_medal_data holds the path to your data file\n",
        "country_medal_data = pd.read_csv('/content/drive/MyDrive/Olympic/medals_total.csv') # Replace with actual path\n",
        "\n",
        "country_medal_data.head()"
      ],
      "metadata": {
        "execution": {
          "iopub.status.busy": "2024-10-01T15:08:52.76366Z",
          "iopub.execute_input": "2024-10-01T15:08:52.766112Z",
          "iopub.status.idle": "2024-10-01T15:08:52.798425Z",
          "shell.execute_reply.started": "2024-10-01T15:08:52.766022Z",
          "shell.execute_reply": "2024-10-01T15:08:52.796618Z"
        },
        "trusted": true,
        "id": "985lZzUAn1ho"
      },
      "execution_count": null,
      "outputs": []
    },
    {
      "cell_type": "code",
      "source": [
        "!pip install plotly\n",
        "fig.show(renderer='colab')  # For Google Colab\n",
        "\n"
      ],
      "metadata": {
        "id": "VsivfAE7sbFg"
      },
      "execution_count": null,
      "outputs": []
    },
    {
      "cell_type": "code",
      "source": [
        "import plotly.graph_objects as go\n",
        "from plotly.subplots import make_subplots\n",
        "\n",
        "\n",
        "\n",
        "# Initialize figure with subplots\n",
        "fig = make_subplots(\n",
        "    rows=2, cols=2,\n",
        "    column_widths=[0.6, 0.4],\n",
        "    row_heights=[0.4, 0.6],\n",
        "    specs=[[{\"type\": \"bar\"}, {\"type\": \"pie\"}],\n",
        "           [{\"type\": \"scatter\"}, {\"type\": \"table\"}]]\n",
        ")\n",
        "\n",
        "# Add bar chart of total medals by country\n",
        "fig.add_trace(\n",
        "    go.Bar(x=country_medal_data[\"country\"],\n",
        "           y=country_medal_data[\"Total\"],\n",
        "           marker=dict(color=\"crimson\"),\n",
        "           name=\"Total Medals\"),\n",
        "    row=1, col=1\n",
        ")\n",
        "\n",
        "# Add pie chart showing medal distribution for the top country by total medals (USA)\n",
        "top_country = country_medal_data[country_medal_data[\"country_code\"] == \"USA\"]\n",
        "fig.add_trace(\n",
        "    go.Pie(labels=[\"Gold\", \"Silver\", \"Bronze\"],\n",
        "           values=[top_country[\"Gold Medal\"].values[0],\n",
        "                   top_country[\"Silver Medal\"].values[0],\n",
        "                   top_country[\"Bronze Medal\"].values[0]],\n",
        "           hole=0.4,\n",
        "           marker=dict(colors=[\"gold\", \"silver\", \"#cd7f32\"])),\n",
        "    row=1, col=2\n",
        ")\n",
        "\n",
        "# Add scatter plot of medal counts\n",
        "fig.add_trace(\n",
        "    go.Scatter(x=country_medal_data[\"Gold Medal\"],\n",
        "               y=country_medal_data[\"Silver Medal\"],\n",
        "               mode=\"markers+text\",\n",
        "               text=country_medal_data[\"country\"],\n",
        "               textposition=\"top center\",\n",
        "               marker=dict(size=country_medal_data[\"Total\"], color=\"crimson\")),\n",
        "    row=2, col=1\n",
        ")\n",
        "\n",
        "# Add table with medal counts for each country\n",
        "fig.add_trace(\n",
        "    go.Table(\n",
        "        header=dict(values=[\"Country\", \"Gold\", \"Silver\", \"Bronze\", \"Total\"]),\n",
        "        cells=dict(values=[country_medal_data[\"country\"],\n",
        "                           country_medal_data[\"Gold Medal\"],\n",
        "                           country_medal_data[\"Silver Medal\"],\n",
        "                           country_medal_data[\"Bronze Medal\"],\n",
        "                           country_medal_data[\"Total\"]])\n",
        "    ),\n",
        "    row=2, col=2\n",
        ")\n",
        "\n",
        "# Set theme, margin, and layout\n",
        "fig.update_layout(\n",
        "    template=\"plotly_dark\",\n",
        "    margin=dict(r=10, t=25, b=40, l=60),\n",
        "    title_text=\"Medal Counts by Country\",\n",
        "    title_x=0.5\n",
        ")\n",
        "\n",
        "fig.show(renderer='colab')"
      ],
      "metadata": {
        "execution": {
          "iopub.status.busy": "2024-10-01T15:08:52.804306Z",
          "iopub.execute_input": "2024-10-01T15:08:52.805033Z",
          "iopub.status.idle": "2024-10-01T15:08:54.811168Z",
          "shell.execute_reply.started": "2024-10-01T15:08:52.804955Z",
          "shell.execute_reply": "2024-10-01T15:08:54.809858Z"
        },
        "trusted": true,
        "id": "W3L7FbjGn1ho"
      },
      "execution_count": null,
      "outputs": []
    },
    {
      "cell_type": "markdown",
      "source": [
        "## Olympic Medals Analysis Gold silver bronze total with top 10 countries"
      ],
      "metadata": {
        "id": "U-3sba8Qn1ho"
      }
    },
    {
      "cell_type": "code",
      "source": [
        "top_medals = country_medal_data.sort_values('Total',ascending=False)\n",
        "top_10_country_medals=top_medals.head(10)\n",
        "\n",
        "others = top_medals.iloc[10:]\n",
        "total_others = [others['Total'].sum()]\n",
        "\n",
        "labels=pd.concat([top_10_country_medals['country'],pd.Series('others')])\n",
        "# labels\n",
        "total_medals=pd.concat([top_10_country_medals['Total'],pd.Series(total_others)])\n",
        "# total_medals\n",
        "plt.pie(total_medals,labels=labels,autopct='%1.1f%%')\n",
        "plt.show()"
      ],
      "metadata": {
        "execution": {
          "iopub.status.busy": "2024-10-01T15:08:54.812872Z",
          "iopub.execute_input": "2024-10-01T15:08:54.8134Z",
          "iopub.status.idle": "2024-10-01T15:08:55.067947Z",
          "shell.execute_reply.started": "2024-10-01T15:08:54.813343Z",
          "shell.execute_reply": "2024-10-01T15:08:55.061415Z"
        },
        "trusted": true,
        "id": "ARSfdbkun1ho"
      },
      "execution_count": null,
      "outputs": []
    },
    {
      "cell_type": "code",
      "source": [
        "top_gold_medals = country_medal_data.sort_values('Gold Medal',ascending=False)\n",
        "top_10_country_gold_medals=top_gold_medals.head(10)\n",
        "\n",
        "othersGold = top_gold_medals.iloc[10:]\n",
        "total_othersGold = [othersGold['Total'].sum()]\n",
        "\n",
        "labels=pd.concat([top_10_country_gold_medals['country'],pd.Series('others')])\n",
        "# labels\n",
        "total_Goldmedals=pd.concat([top_10_country_gold_medals['Gold Medal'],pd.Series(total_othersGold)])\n",
        "# total_medals\n",
        "plt.pie(total_Goldmedals,labels=labels,autopct='%1.1f%%',startangle=140,textprops={'size': 'smaller'})\n",
        "plt.show()"
      ],
      "metadata": {
        "execution": {
          "iopub.status.busy": "2024-10-01T15:08:55.070509Z",
          "iopub.execute_input": "2024-10-01T15:08:55.072006Z",
          "iopub.status.idle": "2024-10-01T15:08:55.333041Z",
          "shell.execute_reply.started": "2024-10-01T15:08:55.071922Z",
          "shell.execute_reply": "2024-10-01T15:08:55.331442Z"
        },
        "trusted": true,
        "id": "NzCEarkon1hp"
      },
      "execution_count": null,
      "outputs": []
    },
    {
      "cell_type": "markdown",
      "source": [
        "## Top 10 countries with total medal in olympics"
      ],
      "metadata": {
        "id": "8RuLiQPAn1hp"
      }
    },
    {
      "cell_type": "code",
      "source": [
        "top_country_medals = country_medal_data.sort_values('Total',ascending=False).head(10)\n",
        "sns.barplot(y='country', x='Total', data=top_country_medals)"
      ],
      "metadata": {
        "execution": {
          "iopub.status.busy": "2024-10-01T15:08:55.335672Z",
          "iopub.execute_input": "2024-10-01T15:08:55.3368Z",
          "iopub.status.idle": "2024-10-01T15:08:55.6991Z",
          "shell.execute_reply.started": "2024-10-01T15:08:55.336716Z",
          "shell.execute_reply": "2024-10-01T15:08:55.697878Z"
        },
        "trusted": true,
        "id": "8IcS6XwOn1hp"
      },
      "execution_count": null,
      "outputs": []
    },
    {
      "cell_type": "markdown",
      "source": [
        "## Top 10 countries with Gold medal in olympics"
      ],
      "metadata": {
        "id": "LV9ssjwhn1hp"
      }
    },
    {
      "cell_type": "code",
      "source": [
        "top_gold_medals_country = country_medal_data.sort_values('Gold Medal',ascending=False).head(10)\n",
        "sns.barplot(y='country', x='Gold Medal', data=top_gold_medals_country)"
      ],
      "metadata": {
        "execution": {
          "iopub.status.busy": "2024-10-01T15:08:55.700838Z",
          "iopub.execute_input": "2024-10-01T15:08:55.701371Z",
          "iopub.status.idle": "2024-10-01T15:08:56.200144Z",
          "shell.execute_reply.started": "2024-10-01T15:08:55.701311Z",
          "shell.execute_reply": "2024-10-01T15:08:56.198835Z"
        },
        "trusted": true,
        "id": "j-dzsBWXn1hp"
      },
      "execution_count": null,
      "outputs": []
    },
    {
      "cell_type": "code",
      "source": [
        "import plotly.express as px\n",
        "fig = px.bar(country_medal_data, x='country', y='Total', title='Total Medals by Country')\n",
        "fig.show(renderer='colab')"
      ],
      "metadata": {
        "execution": {
          "iopub.status.busy": "2024-10-01T15:08:56.201811Z",
          "iopub.execute_input": "2024-10-01T15:08:56.20226Z",
          "iopub.status.idle": "2024-10-01T15:08:56.919666Z",
          "shell.execute_reply.started": "2024-10-01T15:08:56.202197Z",
          "shell.execute_reply": "2024-10-01T15:08:56.918355Z"
        },
        "trusted": true,
        "id": "anc0U3rkn1hp"
      },
      "execution_count": null,
      "outputs": []
    },
    {
      "cell_type": "markdown",
      "source": [
        "## Medal Distribution by Country"
      ],
      "metadata": {
        "id": "KcHalR3an1hp"
      }
    },
    {
      "cell_type": "code",
      "source": [
        "country_medal_data_dist = country_medal_data.melt(id_vars='country', value_vars=['Gold Medal', 'Silver Medal', 'Bronze Medal'], var_name='Medal Type', value_name='Count')\n",
        "fig = px.bar(country_medal_data_dist, x='country', y='Count', color='Medal Type', title='Medal Distribution by Country', text='Count')\n",
        "fig.show(renderer='colab')"
      ],
      "metadata": {
        "execution": {
          "iopub.status.busy": "2024-10-01T15:08:56.921407Z",
          "iopub.execute_input": "2024-10-01T15:08:56.922098Z",
          "iopub.status.idle": "2024-10-01T15:08:57.057305Z",
          "shell.execute_reply.started": "2024-10-01T15:08:56.92205Z",
          "shell.execute_reply": "2024-10-01T15:08:57.056149Z"
        },
        "trusted": true,
        "id": "LmgvBI2dn1hp"
      },
      "execution_count": null,
      "outputs": []
    },
    {
      "cell_type": "markdown",
      "source": [
        "## Gold vs Silver medals"
      ],
      "metadata": {
        "id": "5R8K9QZZn1hp"
      }
    },
    {
      "cell_type": "code",
      "source": [
        "fig = px.scatter(country_medal_data, x='Gold Medal', y='Silver Medal', size='Total', color='country', title='Gold vs. Silver Medals', hover_name='country')\n",
        "fig.show(renderer='colab')"
      ],
      "metadata": {
        "execution": {
          "iopub.status.busy": "2024-10-01T15:08:57.05896Z",
          "iopub.execute_input": "2024-10-01T15:08:57.059376Z",
          "iopub.status.idle": "2024-10-01T15:08:57.690879Z",
          "shell.execute_reply.started": "2024-10-01T15:08:57.059333Z",
          "shell.execute_reply": "2024-10-01T15:08:57.689717Z"
        },
        "trusted": true,
        "id": "xpp2rD76n1hq"
      },
      "execution_count": null,
      "outputs": []
    },
    {
      "cell_type": "markdown",
      "source": [
        "## Correlation b/w medals"
      ],
      "metadata": {
        "id": "8jbSUkO-n1hq"
      }
    },
    {
      "cell_type": "code",
      "source": [
        "# Correlation\n",
        "correlation_matrix = country_medal_data[['Gold Medal', 'Silver Medal', 'Bronze Medal']].corr()\n",
        "fig = px.imshow(correlation_matrix, text_auto=True, title='Medal Correlation Matrix')\n",
        "fig.show(renderer='colab')"
      ],
      "metadata": {
        "execution": {
          "iopub.status.busy": "2024-10-01T15:08:57.692507Z",
          "iopub.execute_input": "2024-10-01T15:08:57.692897Z",
          "iopub.status.idle": "2024-10-01T15:08:57.810681Z",
          "shell.execute_reply.started": "2024-10-01T15:08:57.692856Z",
          "shell.execute_reply": "2024-10-01T15:08:57.809457Z"
        },
        "trusted": true,
        "id": "mPF4uh5jn1hq"
      },
      "execution_count": null,
      "outputs": []
    },
    {
      "cell_type": "markdown",
      "source": [
        "# Medals data Analysis"
      ],
      "metadata": {
        "id": "UKiAdk6bn1hq"
      }
    },
    {
      "cell_type": "code",
      "source": [
        "medals_data.head()"
      ],
      "metadata": {
        "execution": {
          "iopub.status.busy": "2024-10-01T15:08:57.812104Z",
          "iopub.execute_input": "2024-10-01T15:08:57.812528Z",
          "iopub.status.idle": "2024-10-01T15:08:57.833163Z",
          "shell.execute_reply.started": "2024-10-01T15:08:57.812487Z",
          "shell.execute_reply": "2024-10-01T15:08:57.831982Z"
        },
        "trusted": true,
        "id": "SbW7ZZyxn1hq"
      },
      "execution_count": null,
      "outputs": []
    },
    {
      "cell_type": "markdown",
      "source": [
        "## Medal Distribution by Gender for country"
      ],
      "metadata": {
        "id": "me6zQrX1n1hq"
      }
    },
    {
      "cell_type": "code",
      "source": [
        "import pandas as pd\n",
        "import plotly.express as px\n",
        "\n",
        "# Instead of passing the file path, read the file using pd.read_csv\n",
        "medals_data = pd.read_csv(medals_data) # Assuming medals_data is the path to a CSV file\n",
        "\n",
        "# The rest of your code remains the same:\n",
        "fig = px.histogram(medals_data, x='country', color='gender', title='Count of Medals by Country')\n",
        "fig.update_layout(barmode='stack')\n",
        "fig.show(renderer='colab')"
      ],
      "metadata": {
        "execution": {
          "iopub.status.busy": "2024-10-01T15:08:57.834879Z",
          "iopub.execute_input": "2024-10-01T15:08:57.835282Z",
          "iopub.status.idle": "2024-10-01T15:08:57.986073Z",
          "shell.execute_reply.started": "2024-10-01T15:08:57.835214Z",
          "shell.execute_reply": "2024-10-01T15:08:57.984862Z"
        },
        "trusted": true,
        "id": "ejxEGvg0n1hq"
      },
      "execution_count": null,
      "outputs": []
    },
    {
      "cell_type": "markdown",
      "source": [
        "## Medal Distribution by event"
      ],
      "metadata": {
        "id": "AqE3xPB5n1hq"
      }
    },
    {
      "cell_type": "code",
      "source": [
        "import pandas as pd\n",
        "import plotly.express as px\n",
        "\n",
        "# Assuming 'medals.csv' is the path to your CSV file:\n",
        "medals_data = pd.read_csv('/content/drive/MyDrive/Olympic/medals.csv')  # Read the data into a DataFrame\n",
        "\n",
        "plt.figure(figsize=(45, 30))\n",
        "\n",
        "# Now pass the DataFrame to px.histogram:\n",
        "fig = px.histogram(medals_data, x='event', color='medal_type', title='Count of medals by event')\n",
        "fig.update_layout(barmode='stack')\n",
        "fig.show(renderer='colab')"
      ],
      "metadata": {
        "execution": {
          "iopub.status.busy": "2024-10-01T15:08:57.987473Z",
          "iopub.execute_input": "2024-10-01T15:08:57.987828Z",
          "iopub.status.idle": "2024-10-01T15:08:58.164451Z",
          "shell.execute_reply.started": "2024-10-01T15:08:57.98779Z",
          "shell.execute_reply": "2024-10-01T15:08:58.163231Z"
        },
        "trusted": true,
        "id": "E5VMqXTHn1hq"
      },
      "execution_count": null,
      "outputs": []
    },
    {
      "cell_type": "markdown",
      "source": [
        "## Medal Distribution by Events and Disciplines"
      ],
      "metadata": {
        "id": "nl977fyWn1hq"
      }
    },
    {
      "cell_type": "code",
      "source": [
        "fig = px.histogram(medals_data,x='discipline',color='event',title='Count of medals by events and disciplines')\n",
        "fig.update_layout(barmode='stack')\n",
        "fig.show(renderer='colab')"
      ],
      "metadata": {
        "execution": {
          "iopub.status.busy": "2024-10-01T15:08:58.165985Z",
          "iopub.execute_input": "2024-10-01T15:08:58.166378Z",
          "iopub.status.idle": "2024-10-01T15:08:59.696716Z",
          "shell.execute_reply.started": "2024-10-01T15:08:58.166338Z",
          "shell.execute_reply": "2024-10-01T15:08:59.695459Z"
        },
        "trusted": true,
        "id": "-1NsOfBGn1hr"
      },
      "execution_count": null,
      "outputs": []
    },
    {
      "cell_type": "code",
      "source": [
        "fig = px.histogram(medals_data,x='discipline',color='country',title='Count of medals by event')\n",
        "fig.update_layout(barmode='stack')\n",
        "fig.show(renderer='colab')"
      ],
      "metadata": {
        "execution": {
          "iopub.status.busy": "2024-10-01T15:08:59.698307Z",
          "iopub.execute_input": "2024-10-01T15:08:59.698789Z",
          "iopub.status.idle": "2024-10-01T15:09:00.260365Z",
          "shell.execute_reply.started": "2024-10-01T15:08:59.698732Z",
          "shell.execute_reply": "2024-10-01T15:09:00.2593Z"
        },
        "trusted": true,
        "id": "qRf9-vXWn1hr"
      },
      "execution_count": null,
      "outputs": []
    },
    {
      "cell_type": "markdown",
      "source": [
        "## Medal Distribution by Date"
      ],
      "metadata": {
        "id": "_4Q0apYGn1hr"
      }
    },
    {
      "cell_type": "code",
      "source": [
        "medals_data['medal_date'].value_counts()"
      ],
      "metadata": {
        "execution": {
          "iopub.status.busy": "2024-10-01T15:09:00.261978Z",
          "iopub.execute_input": "2024-10-01T15:09:00.262412Z",
          "iopub.status.idle": "2024-10-01T15:09:00.272532Z",
          "shell.execute_reply.started": "2024-10-01T15:09:00.26237Z",
          "shell.execute_reply": "2024-10-01T15:09:00.271238Z"
        },
        "trusted": true,
        "id": "spVmwywhn1hr"
      },
      "execution_count": null,
      "outputs": []
    },
    {
      "cell_type": "code",
      "source": [
        "fig = px.histogram(medals_data, x='medal_date',color='gender')\n",
        "fig.update_layout(xaxis_title='Date',yaxis_title='Count',bargap=0.2)\n",
        "fig.show(renderer='colab')\n"
      ],
      "metadata": {
        "execution": {
          "iopub.status.busy": "2024-10-01T15:09:00.27441Z",
          "iopub.execute_input": "2024-10-01T15:09:00.275006Z",
          "iopub.status.idle": "2024-10-01T15:09:00.538972Z",
          "shell.execute_reply.started": "2024-10-01T15:09:00.274931Z",
          "shell.execute_reply": "2024-10-01T15:09:00.537629Z"
        },
        "trusted": true,
        "id": "MtYoweGwn1hr"
      },
      "execution_count": null,
      "outputs": []
    },
    {
      "cell_type": "markdown",
      "source": [
        "## Event Type"
      ],
      "metadata": {
        "id": "kBLYyznjn1hr"
      }
    },
    {
      "cell_type": "code",
      "source": [
        "medals_data['event_type'].value_counts()"
      ],
      "metadata": {
        "execution": {
          "iopub.status.busy": "2024-10-01T15:09:00.540532Z",
          "iopub.execute_input": "2024-10-01T15:09:00.541017Z",
          "iopub.status.idle": "2024-10-01T15:09:00.551536Z",
          "shell.execute_reply.started": "2024-10-01T15:09:00.540958Z",
          "shell.execute_reply": "2024-10-01T15:09:00.550219Z"
        },
        "trusted": true,
        "id": "4NQQingZn1hr"
      },
      "execution_count": null,
      "outputs": []
    },
    {
      "cell_type": "code",
      "source": [
        "fig = px.pie(medals_data,names='event_type',title='Distribution of Events')\n",
        "fig.show(renderer='colab')"
      ],
      "metadata": {
        "execution": {
          "iopub.status.busy": "2024-10-01T15:09:00.55315Z",
          "iopub.execute_input": "2024-10-01T15:09:00.553662Z",
          "iopub.status.idle": "2024-10-01T15:09:00.638525Z",
          "shell.execute_reply.started": "2024-10-01T15:09:00.553612Z",
          "shell.execute_reply": "2024-10-01T15:09:00.637364Z"
        },
        "trusted": true,
        "id": "55au0IXNn1hr"
      },
      "execution_count": null,
      "outputs": []
    },
    {
      "cell_type": "markdown",
      "source": [
        "# Coach Data Analysis"
      ],
      "metadata": {
        "id": "o_qASK8Cn1hr"
      }
    },
    {
      "cell_type": "code",
      "source": [
        "import pandas as pd\n",
        "\n",
        "# Assuming coaches_data is a CSV file\n",
        "coaches_data = pd.read_csv('/content/drive/MyDrive/Olympic/coaches.csv')  # Replace with actual file path\n",
        "\n",
        "coaches_data.head()"
      ],
      "metadata": {
        "execution": {
          "iopub.status.busy": "2024-10-01T15:09:00.640072Z",
          "iopub.execute_input": "2024-10-01T15:09:00.640587Z",
          "iopub.status.idle": "2024-10-01T15:09:00.659206Z",
          "shell.execute_reply.started": "2024-10-01T15:09:00.640527Z",
          "shell.execute_reply": "2024-10-01T15:09:00.658053Z"
        },
        "trusted": true,
        "id": "6jOY4V6Fn1hr"
      },
      "execution_count": null,
      "outputs": []
    },
    {
      "cell_type": "markdown",
      "source": [
        "## Distribution of disciplines"
      ],
      "metadata": {
        "id": "-XCXatUZn1hs"
      }
    },
    {
      "cell_type": "code",
      "source": [
        "coaches_data.disciplines.value_counts()"
      ],
      "metadata": {
        "execution": {
          "iopub.status.busy": "2024-10-01T15:09:00.660841Z",
          "iopub.execute_input": "2024-10-01T15:09:00.661366Z",
          "iopub.status.idle": "2024-10-01T15:09:00.674489Z",
          "shell.execute_reply.started": "2024-10-01T15:09:00.66131Z",
          "shell.execute_reply": "2024-10-01T15:09:00.673342Z"
        },
        "trusted": true,
        "id": "a-eihAqan1hs"
      },
      "execution_count": null,
      "outputs": []
    },
    {
      "cell_type": "code",
      "source": [
        "fig = px.pie(coaches_data,names='disciplines',title='Distribution of disciplines')\n",
        "fig.show(renderer='colab')"
      ],
      "metadata": {
        "execution": {
          "iopub.status.busy": "2024-10-01T15:09:00.676595Z",
          "iopub.execute_input": "2024-10-01T15:09:00.677035Z",
          "iopub.status.idle": "2024-10-01T15:09:00.75795Z",
          "shell.execute_reply.started": "2024-10-01T15:09:00.676992Z",
          "shell.execute_reply": "2024-10-01T15:09:00.756687Z"
        },
        "trusted": true,
        "id": "JXw8nbe2n1hs"
      },
      "execution_count": null,
      "outputs": []
    },
    {
      "cell_type": "markdown",
      "source": [
        "## Distribution of coaches"
      ],
      "metadata": {
        "id": "lkkH4Xamn1hs"
      }
    },
    {
      "cell_type": "code",
      "source": [
        "sns.countplot(coaches_data,x='gender',hue='gender')\n",
        "plt.title(\"Distribution of coaches(Gender)\")\n",
        "plt.show()"
      ],
      "metadata": {
        "execution": {
          "iopub.status.busy": "2024-10-01T15:09:00.759444Z",
          "iopub.execute_input": "2024-10-01T15:09:00.759829Z",
          "iopub.status.idle": "2024-10-01T15:09:01.052787Z",
          "shell.execute_reply.started": "2024-10-01T15:09:00.75979Z",
          "shell.execute_reply": "2024-10-01T15:09:01.051576Z"
        },
        "trusted": true,
        "id": "7TdTc4Sgn1hs"
      },
      "execution_count": null,
      "outputs": []
    },
    {
      "cell_type": "markdown",
      "source": [
        "## Coaches vs Countries Distribution"
      ],
      "metadata": {
        "id": "7lWjrHvRn1hs"
      }
    },
    {
      "cell_type": "code",
      "source": [
        "fig = px.histogram(coaches_data,x='country',title=' Number of coaches per Country',color='country')\n",
        "fig.show(renderer='colab')"
      ],
      "metadata": {
        "execution": {
          "iopub.status.busy": "2024-10-01T15:09:01.054757Z",
          "iopub.execute_input": "2024-10-01T15:09:01.055318Z",
          "iopub.status.idle": "2024-10-01T15:09:01.685936Z",
          "shell.execute_reply.started": "2024-10-01T15:09:01.055231Z",
          "shell.execute_reply": "2024-10-01T15:09:01.684565Z"
        },
        "trusted": true,
        "id": "cbq29vCNn1hs"
      },
      "execution_count": null,
      "outputs": []
    },
    {
      "cell_type": "markdown",
      "source": [
        "## Coaches function(job)"
      ],
      "metadata": {
        "id": "7OIVito6n1hs"
      }
    },
    {
      "cell_type": "code",
      "source": [
        "coaches_data.function.value_counts()"
      ],
      "metadata": {
        "execution": {
          "iopub.status.busy": "2024-10-01T15:09:01.687597Z",
          "iopub.execute_input": "2024-10-01T15:09:01.688079Z",
          "iopub.status.idle": "2024-10-01T15:09:01.699126Z",
          "shell.execute_reply.started": "2024-10-01T15:09:01.688024Z",
          "shell.execute_reply": "2024-10-01T15:09:01.697967Z"
        },
        "trusted": true,
        "id": "TTM9oAu7n1hs"
      },
      "execution_count": null,
      "outputs": []
    },
    {
      "cell_type": "code",
      "source": [
        "fig = px.pie(coaches_data,names='function',title='Distribution of function of coaches')\n",
        "fig.show(renderer='colab')"
      ],
      "metadata": {
        "execution": {
          "iopub.status.busy": "2024-10-01T15:09:01.700705Z",
          "iopub.execute_input": "2024-10-01T15:09:01.701104Z",
          "iopub.status.idle": "2024-10-01T15:09:01.787118Z",
          "shell.execute_reply.started": "2024-10-01T15:09:01.701062Z",
          "shell.execute_reply": "2024-10-01T15:09:01.785729Z"
        },
        "trusted": true,
        "id": "17dVlDrAn1hs"
      },
      "execution_count": null,
      "outputs": []
    },
    {
      "cell_type": "markdown",
      "source": [
        "## Coach Age Analysis"
      ],
      "metadata": {
        "id": "3h6rabuOn1hs"
      }
    },
    {
      "cell_type": "code",
      "source": [
        "coaches_data['birth_date']=pd.to_datetime(coaches_data['birth_date'])\n",
        "coaches_data['age']= coaches_data['birth_date'].apply(lambda birth_date: (datetime.now() - birth_date).days // 365)\n",
        "coaches_data.head()"
      ],
      "metadata": {
        "execution": {
          "iopub.status.busy": "2024-10-01T15:09:01.788686Z",
          "iopub.execute_input": "2024-10-01T15:09:01.789106Z",
          "iopub.status.idle": "2024-10-01T15:09:01.82753Z",
          "shell.execute_reply.started": "2024-10-01T15:09:01.789061Z",
          "shell.execute_reply": "2024-10-01T15:09:01.826136Z"
        },
        "trusted": true,
        "id": "QYrI0BVsn1hs"
      },
      "execution_count": null,
      "outputs": []
    },
    {
      "cell_type": "code",
      "source": [
        "fig = px.histogram(coaches_data,x='age')\n",
        "fig.show(renderer='colab')"
      ],
      "metadata": {
        "execution": {
          "iopub.status.busy": "2024-10-01T15:09:01.829306Z",
          "iopub.execute_input": "2024-10-01T15:09:01.829768Z",
          "iopub.status.idle": "2024-10-01T15:09:01.923271Z",
          "shell.execute_reply.started": "2024-10-01T15:09:01.829705Z",
          "shell.execute_reply": "2024-10-01T15:09:01.922018Z"
        },
        "trusted": true,
        "id": "XvTjpNtan1ht"
      },
      "execution_count": null,
      "outputs": []
    },
    {
      "cell_type": "code",
      "source": [
        "fig = px.histogram(coaches_data,x='age',histnorm='probability density')\n",
        "fig.show(renderer='colab')"
      ],
      "metadata": {
        "execution": {
          "iopub.status.busy": "2024-10-01T15:09:01.924747Z",
          "iopub.execute_input": "2024-10-01T15:09:01.925139Z",
          "iopub.status.idle": "2024-10-01T15:09:02.01569Z",
          "shell.execute_reply.started": "2024-10-01T15:09:01.925096Z",
          "shell.execute_reply": "2024-10-01T15:09:02.014471Z"
        },
        "trusted": true,
        "id": "G_TORD4Xn1ht"
      },
      "execution_count": null,
      "outputs": []
    },
    {
      "cell_type": "markdown",
      "source": [
        "### Youngest and oldest Coach"
      ],
      "metadata": {
        "id": "mIONaa8_n1ht"
      }
    },
    {
      "cell_type": "code",
      "source": [
        "youngest_coach = coaches_data.loc[coaches_data['age'].idxmin()]\n",
        "# youngest_coach\n",
        "print(f\" The youngest coach is {youngest_coach['name']} and gender of coach is {youngest_coach['gender']} who coach {youngest_coach['disciplines']} event\")"
      ],
      "metadata": {
        "execution": {
          "iopub.status.busy": "2024-10-01T15:09:02.016947Z",
          "iopub.execute_input": "2024-10-01T15:09:02.017351Z",
          "iopub.status.idle": "2024-10-01T15:09:02.024817Z",
          "shell.execute_reply.started": "2024-10-01T15:09:02.017308Z",
          "shell.execute_reply": "2024-10-01T15:09:02.023527Z"
        },
        "trusted": true,
        "id": "U51URM5Xn1ht"
      },
      "execution_count": null,
      "outputs": []
    },
    {
      "cell_type": "code",
      "source": [
        "oldest_coach = coaches_data.loc[coaches_data['age'].idxmax()]\n",
        "# oldest_coach\n",
        "print(f\" The oldest coach is {oldest_coach['name']} and gender of coach is {oldest_coach['gender']} who coach {oldest_coach['disciplines']} event\")"
      ],
      "metadata": {
        "execution": {
          "iopub.status.busy": "2024-10-01T15:09:02.026461Z",
          "iopub.execute_input": "2024-10-01T15:09:02.026926Z",
          "iopub.status.idle": "2024-10-01T15:09:02.042566Z",
          "shell.execute_reply.started": "2024-10-01T15:09:02.026863Z",
          "shell.execute_reply": "2024-10-01T15:09:02.041354Z"
        },
        "trusted": true,
        "id": "Mz3xjo6yn1ht"
      },
      "execution_count": null,
      "outputs": []
    },
    {
      "cell_type": "markdown",
      "source": [
        "### Most coach"
      ],
      "metadata": {
        "id": "zfkO5p9Un1ht"
      }
    },
    {
      "cell_type": "code",
      "source": [
        "coaches_data.groupby('name').size().value_counts()"
      ],
      "metadata": {
        "execution": {
          "iopub.status.busy": "2024-10-01T15:09:02.044204Z",
          "iopub.execute_input": "2024-10-01T15:09:02.044723Z",
          "iopub.status.idle": "2024-10-01T15:09:02.060335Z",
          "shell.execute_reply.started": "2024-10-01T15:09:02.044668Z",
          "shell.execute_reply": "2024-10-01T15:09:02.058998Z"
        },
        "trusted": true,
        "id": "4UeZrhfgn1ht"
      },
      "execution_count": null,
      "outputs": []
    },
    {
      "cell_type": "markdown",
      "source": [
        "# Venues Data Analysis"
      ],
      "metadata": {
        "id": "tB9IL1don1ht"
      }
    },
    {
      "cell_type": "code",
      "source": [
        "venues_data.head()"
      ],
      "metadata": {
        "execution": {
          "iopub.status.busy": "2024-10-01T15:09:02.061925Z",
          "iopub.execute_input": "2024-10-01T15:09:02.062389Z",
          "iopub.status.idle": "2024-10-01T15:09:02.081383Z",
          "shell.execute_reply.started": "2024-10-01T15:09:02.062316Z",
          "shell.execute_reply": "2024-10-01T15:09:02.080063Z"
        },
        "trusted": true,
        "id": "-5qSftdKn1ht"
      },
      "execution_count": null,
      "outputs": []
    },
    {
      "cell_type": "code",
      "source": [
        "venues_data.sports.value_counts()"
      ],
      "metadata": {
        "execution": {
          "iopub.status.busy": "2024-10-01T15:09:02.08282Z",
          "iopub.execute_input": "2024-10-01T15:09:02.083279Z",
          "iopub.status.idle": "2024-10-01T15:09:02.097407Z",
          "shell.execute_reply.started": "2024-10-01T15:09:02.083205Z",
          "shell.execute_reply": "2024-10-01T15:09:02.095985Z"
        },
        "trusted": true,
        "id": "C113d35_n1ht"
      },
      "execution_count": null,
      "outputs": []
    },
    {
      "cell_type": "markdown",
      "source": [
        "##  Event Duration"
      ],
      "metadata": {
        "id": "Iai7dzmTn1ht"
      }
    },
    {
      "cell_type": "code",
      "source": [
        "venues_data['duration']=(pd.to_datetime(venues_data['date_end'])-pd.to_datetime(venues_data['date_start']))\n",
        "venues_data.head()"
      ],
      "metadata": {
        "execution": {
          "iopub.status.busy": "2024-10-01T15:09:02.189701Z",
          "iopub.execute_input": "2024-10-01T15:09:02.190222Z",
          "iopub.status.idle": "2024-10-01T15:09:02.214206Z",
          "shell.execute_reply.started": "2024-10-01T15:09:02.190172Z",
          "shell.execute_reply": "2024-10-01T15:09:02.21306Z"
        },
        "trusted": true,
        "id": "lgn3oTdUn1ht"
      },
      "execution_count": null,
      "outputs": []
    },
    {
      "cell_type": "markdown",
      "source": [
        "## Biggest Duration venue"
      ],
      "metadata": {
        "id": "jlYkNAjEn1hu"
      }
    },
    {
      "cell_type": "code",
      "source": [
        "biggest_duration_event = venues_data.loc[venues_data['duration'].idxmax()]\n",
        "biggest_duration_event"
      ],
      "metadata": {
        "execution": {
          "iopub.status.busy": "2024-10-01T15:09:02.216219Z",
          "iopub.execute_input": "2024-10-01T15:09:02.216741Z",
          "iopub.status.idle": "2024-10-01T15:09:02.22862Z",
          "shell.execute_reply.started": "2024-10-01T15:09:02.216684Z",
          "shell.execute_reply": "2024-10-01T15:09:02.227434Z"
        },
        "trusted": true,
        "id": "N343B3E3n1hu"
      },
      "execution_count": null,
      "outputs": []
    },
    {
      "cell_type": "markdown",
      "source": [
        "## Smallest Duration venue"
      ],
      "metadata": {
        "id": "aJVmgwTwn1hu"
      }
    },
    {
      "cell_type": "code",
      "source": [
        "smallest_duration_event = venues_data.loc[venues_data['duration'].idxmin()]\n",
        "smallest_duration_event"
      ],
      "metadata": {
        "execution": {
          "iopub.status.busy": "2024-10-01T15:09:02.230275Z",
          "iopub.execute_input": "2024-10-01T15:09:02.230769Z",
          "iopub.status.idle": "2024-10-01T15:09:02.241666Z",
          "shell.execute_reply.started": "2024-10-01T15:09:02.230713Z",
          "shell.execute_reply": "2024-10-01T15:09:02.240388Z"
        },
        "trusted": true,
        "id": "WI5TIcgEn1hu"
      },
      "execution_count": null,
      "outputs": []
    },
    {
      "cell_type": "markdown",
      "source": [
        "## All venues where only football is organised"
      ],
      "metadata": {
        "id": "WLSHPlSin1hu"
      }
    },
    {
      "cell_type": "code",
      "source": [
        "v=venues_data[venues_data.sports==\"['Football']\"].venue.unique()\n",
        "print(v)"
      ],
      "metadata": {
        "execution": {
          "iopub.status.busy": "2024-10-01T15:09:02.243165Z",
          "iopub.execute_input": "2024-10-01T15:09:02.243712Z",
          "iopub.status.idle": "2024-10-01T15:09:02.255889Z",
          "shell.execute_reply.started": "2024-10-01T15:09:02.243649Z",
          "shell.execute_reply": "2024-10-01T15:09:02.254689Z"
        },
        "trusted": true,
        "id": "U4ucYFC3n1hu"
      },
      "execution_count": null,
      "outputs": []
    },
    {
      "cell_type": "markdown",
      "source": [
        "## Duration Vs venue"
      ],
      "metadata": {
        "id": "hxwdaPpNn1hu"
      }
    },
    {
      "cell_type": "code",
      "source": [
        "fig = px.scatter(venues_data,x='duration',y='venue')\n",
        "fig.show(renderer='colab')"
      ],
      "metadata": {
        "execution": {
          "iopub.status.busy": "2024-10-01T15:09:02.257666Z",
          "iopub.execute_input": "2024-10-01T15:09:02.258175Z",
          "iopub.status.idle": "2024-10-01T15:09:02.346776Z",
          "shell.execute_reply.started": "2024-10-01T15:09:02.258106Z",
          "shell.execute_reply": "2024-10-01T15:09:02.345403Z"
        },
        "trusted": true,
        "id": "i9UMFlwbn1hu"
      },
      "execution_count": null,
      "outputs": []
    },
    {
      "cell_type": "code",
      "source": [
        "import ast\n",
        "import pandas as pd\n",
        "\n",
        "def safe_literal_eval(x):\n",
        "  \"\"\"\n",
        "  Safely evaluate a string as a Python literal,\n",
        "  handling cases where the string is not a valid list literal.\n",
        "\n",
        "  Args:\n",
        "    x: The string to evaluate.\n",
        "\n",
        "  Returns:\n",
        "    The evaluated Python literal if successful, otherwise the original string.\n",
        "  \"\"\"\n",
        "  try:\n",
        "    return ast.literal_eval(x)\n",
        "  except (SyntaxError, ValueError):\n",
        "    return x\n",
        "\n",
        "venues_data['sports'] = venues_data['sports'].apply(safe_literal_eval)"
      ],
      "metadata": {
        "execution": {
          "iopub.status.busy": "2024-10-01T15:09:02.34844Z",
          "iopub.execute_input": "2024-10-01T15:09:02.348814Z",
          "iopub.status.idle": "2024-10-01T15:09:02.355895Z",
          "shell.execute_reply.started": "2024-10-01T15:09:02.348775Z",
          "shell.execute_reply": "2024-10-01T15:09:02.35468Z"
        },
        "trusted": true,
        "id": "N_tl-0SHn1hu"
      },
      "execution_count": null,
      "outputs": []
    },
    {
      "cell_type": "code",
      "source": [
        "all_sports=set()\n",
        "for sublist in venues_data['sports']:\n",
        "    for sport in sublist:\n",
        "        all_sports.add(sport)\n",
        "all_sports"
      ],
      "metadata": {
        "execution": {
          "iopub.status.busy": "2024-10-01T15:09:02.357512Z",
          "iopub.execute_input": "2024-10-01T15:09:02.357951Z",
          "iopub.status.idle": "2024-10-01T15:09:02.37307Z",
          "shell.execute_reply.started": "2024-10-01T15:09:02.357907Z",
          "shell.execute_reply": "2024-10-01T15:09:02.371586Z"
        },
        "trusted": true,
        "id": "ZAWz93qUn1hu"
      },
      "execution_count": null,
      "outputs": []
    },
    {
      "cell_type": "code",
      "source": [
        "for sport in all_sports:\n",
        "    venues_data[sport] = venues_data['sports'].apply(lambda x: 1 if sport in x else 0)"
      ],
      "metadata": {
        "execution": {
          "iopub.status.busy": "2024-10-01T15:09:02.375139Z",
          "iopub.execute_input": "2024-10-01T15:09:02.375875Z",
          "iopub.status.idle": "2024-10-01T15:09:02.408707Z",
          "shell.execute_reply.started": "2024-10-01T15:09:02.375812Z",
          "shell.execute_reply": "2024-10-01T15:09:02.407364Z"
        },
        "trusted": true,
        "id": "N8oDam1_n1hu"
      },
      "execution_count": null,
      "outputs": []
    },
    {
      "cell_type": "code",
      "source": [
        "venues_data.head()"
      ],
      "metadata": {
        "execution": {
          "iopub.status.busy": "2024-10-01T15:09:02.410121Z",
          "iopub.execute_input": "2024-10-01T15:09:02.410523Z",
          "iopub.status.idle": "2024-10-01T15:09:02.452443Z",
          "shell.execute_reply.started": "2024-10-01T15:09:02.410482Z",
          "shell.execute_reply": "2024-10-01T15:09:02.451211Z"
        },
        "trusted": true,
        "id": "OqRNMEBHn1hu"
      },
      "execution_count": null,
      "outputs": []
    },
    {
      "cell_type": "code",
      "source": [
        "football_venues=venues_data[venues_data['Football']==True]\n",
        "football_venues.head()"
      ],
      "metadata": {
        "execution": {
          "iopub.status.busy": "2024-10-01T15:09:02.454379Z",
          "iopub.execute_input": "2024-10-01T15:09:02.455071Z",
          "iopub.status.idle": "2024-10-01T15:09:02.497645Z",
          "shell.execute_reply.started": "2024-10-01T15:09:02.45501Z",
          "shell.execute_reply": "2024-10-01T15:09:02.496175Z"
        },
        "trusted": true,
        "id": "UuvtgTQ4n1hu"
      },
      "execution_count": null,
      "outputs": []
    },
    {
      "cell_type": "markdown",
      "source": [
        "# Events Data Analysis"
      ],
      "metadata": {
        "id": "HLIL9u_2n1hu"
      }
    },
    {
      "cell_type": "code",
      "source": [
        "import pandas as pd\n",
        "\n",
        "# Assuming events_data is a CSV file\n",
        "events_data = pd.read_csv(events_data)  # Load data from the file path into a DataFrame\n",
        "\n",
        "events_data.describe()"
      ],
      "metadata": {
        "execution": {
          "iopub.status.busy": "2024-10-01T15:09:02.49913Z",
          "iopub.execute_input": "2024-10-01T15:09:02.499527Z",
          "iopub.status.idle": "2024-10-01T15:09:02.522512Z",
          "shell.execute_reply.started": "2024-10-01T15:09:02.499484Z",
          "shell.execute_reply": "2024-10-01T15:09:02.521142Z"
        },
        "trusted": true,
        "id": "1Tb2ahVmn1hv"
      },
      "execution_count": null,
      "outputs": []
    },
    {
      "cell_type": "code",
      "source": [
        "import pandas as pd\n",
        "\n",
        "# Assuming 'events.csv' is the name of your file\n",
        "events_data = pd.read_csv('/content/drive/MyDrive/Olympic/events.csv')  # Load data from the file path into a DataFrame\n",
        "\n",
        "events_data.describe()"
      ],
      "metadata": {
        "execution": {
          "iopub.status.busy": "2024-10-01T15:09:02.524377Z",
          "iopub.execute_input": "2024-10-01T15:09:02.525102Z",
          "iopub.status.idle": "2024-10-01T15:09:02.539613Z",
          "shell.execute_reply.started": "2024-10-01T15:09:02.525057Z",
          "shell.execute_reply": "2024-10-01T15:09:02.538214Z"
        },
        "trusted": true,
        "id": "ealZcAr2n1hv"
      },
      "execution_count": null,
      "outputs": []
    },
    {
      "cell_type": "code",
      "source": [
        "events_data.sport.value_counts()"
      ],
      "metadata": {
        "execution": {
          "iopub.status.busy": "2024-10-01T15:09:02.54118Z",
          "iopub.execute_input": "2024-10-01T15:09:02.541693Z",
          "iopub.status.idle": "2024-10-01T15:09:02.554381Z",
          "shell.execute_reply.started": "2024-10-01T15:09:02.541632Z",
          "shell.execute_reply": "2024-10-01T15:09:02.553237Z"
        },
        "trusted": true,
        "id": "Bee3dpcsn1hv"
      },
      "execution_count": null,
      "outputs": []
    },
    {
      "cell_type": "code",
      "source": [
        "fig = px.histogram(events_data,x='sport',color='tag')\n",
        "fig.show(renderer='colab')"
      ],
      "metadata": {
        "execution": {
          "iopub.status.busy": "2024-10-01T15:09:02.555929Z",
          "iopub.execute_input": "2024-10-01T15:09:02.556419Z",
          "iopub.status.idle": "2024-10-01T15:09:02.871402Z",
          "shell.execute_reply.started": "2024-10-01T15:09:02.556372Z",
          "shell.execute_reply": "2024-10-01T15:09:02.870205Z"
        },
        "trusted": true,
        "id": "a6o_6bGgn1hv"
      },
      "execution_count": null,
      "outputs": []
    },
    {
      "cell_type": "code",
      "source": [
        "fig = px.bar(events_data,x='sport',y='event',color='tag')\n",
        "fig.show(renderer='colab')"
      ],
      "metadata": {
        "execution": {
          "iopub.status.busy": "2024-10-01T15:09:02.872768Z",
          "iopub.execute_input": "2024-10-01T15:09:02.87313Z",
          "iopub.status.idle": "2024-10-01T15:09:03.19593Z",
          "shell.execute_reply.started": "2024-10-01T15:09:02.873084Z",
          "shell.execute_reply": "2024-10-01T15:09:03.194724Z"
        },
        "trusted": true,
        "id": "cXRBIU7Tn1hv"
      },
      "execution_count": null,
      "outputs": []
    },
    {
      "cell_type": "markdown",
      "source": [
        "# Football Data Analysis"
      ],
      "metadata": {
        "id": "ZEKX0UWQn1hw"
      }
    },
    {
      "cell_type": "code",
      "source": [
        "football_data=pd.read_csv(\"/content/drive/MyDrive/Olympic/results/Football.csv\")\n",
        "football_data.head()"
      ],
      "metadata": {
        "execution": {
          "iopub.status.busy": "2024-10-01T15:09:03.197528Z",
          "iopub.execute_input": "2024-10-01T15:09:03.197924Z",
          "iopub.status.idle": "2024-10-01T15:09:03.228127Z",
          "shell.execute_reply.started": "2024-10-01T15:09:03.197881Z",
          "shell.execute_reply": "2024-10-01T15:09:03.226893Z"
        },
        "trusted": true,
        "id": "-4c33sV0n1hw"
      },
      "execution_count": null,
      "outputs": []
    },
    {
      "cell_type": "code",
      "source": [
        "!pip install ydata-profiling #Install using pip. The latest version of pandas profiling is renamed and available under ydata-profiling\n",
        "from ydata_profiling import ProfileReport #updated to reflect the change\n",
        "profile = ProfileReport(football_data)\n",
        "profile.to_notebook_iframe()"
      ],
      "metadata": {
        "execution": {
          "iopub.status.busy": "2024-10-01T15:09:03.229457Z",
          "iopub.execute_input": "2024-10-01T15:09:03.229815Z",
          "iopub.status.idle": "2024-10-01T15:09:36.761Z",
          "shell.execute_reply.started": "2024-10-01T15:09:03.229777Z",
          "shell.execute_reply": "2024-10-01T15:09:36.759235Z"
        },
        "trusted": true,
        "id": "BmkYu4von1hw"
      },
      "execution_count": null,
      "outputs": []
    },
    {
      "cell_type": "code",
      "source": [
        "fig = px.bar(football_data,x='participant_country',color='result_WLT')\n",
        "fig.show(renderer='colab')"
      ],
      "metadata": {
        "execution": {
          "iopub.status.busy": "2024-10-01T15:09:36.762815Z",
          "iopub.execute_input": "2024-10-01T15:09:36.763706Z",
          "iopub.status.idle": "2024-10-01T15:09:36.859544Z",
          "shell.execute_reply.started": "2024-10-01T15:09:36.763649Z",
          "shell.execute_reply": "2024-10-01T15:09:36.858125Z"
        },
        "trusted": true,
        "id": "AenZR6ZVn1hx"
      },
      "execution_count": null,
      "outputs": []
    },
    {
      "cell_type": "code",
      "source": [
        "football_data.start_order.value_counts()"
      ],
      "metadata": {
        "execution": {
          "iopub.status.busy": "2024-10-01T15:09:36.871972Z",
          "iopub.execute_input": "2024-10-01T15:09:36.872459Z",
          "iopub.status.idle": "2024-10-01T15:09:36.904137Z",
          "shell.execute_reply.started": "2024-10-01T15:09:36.872413Z",
          "shell.execute_reply": "2024-10-01T15:09:36.902904Z"
        },
        "trusted": true,
        "id": "rIZ0EkQGn1hx"
      },
      "execution_count": null,
      "outputs": []
    },
    {
      "cell_type": "code",
      "source": [
        "ax=sns.countplot(football_data,x='start_order',palette=['mediumvioletred','blue'])\n",
        "for p in ax.patches:\n",
        "    ax.annotate(f'{int(p.get_height())}',\n",
        "                (p.get_x() + p.get_width() / 2., p.get_height()),\n",
        "                ha='center', va='bottom',\n",
        "                fontsize=12,color='mediumvioletred')\n",
        "plt.show()"
      ],
      "metadata": {
        "execution": {
          "iopub.status.busy": "2024-10-01T15:09:36.905796Z",
          "iopub.execute_input": "2024-10-01T15:09:36.906398Z",
          "iopub.status.idle": "2024-10-01T15:09:37.134659Z",
          "shell.execute_reply.started": "2024-10-01T15:09:36.906337Z",
          "shell.execute_reply": "2024-10-01T15:09:37.133341Z"
        },
        "trusted": true,
        "id": "8Ot2u6QWn1hx"
      },
      "execution_count": null,
      "outputs": []
    },
    {
      "cell_type": "code",
      "source": [],
      "metadata": {
        "id": "hOCKdamBn1hx"
      },
      "execution_count": null,
      "outputs": []
    }
  ]
}
